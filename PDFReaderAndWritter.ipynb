{
 "cells": [
  {
   "cell_type": "code",
   "execution_count": 24,
   "id": "1e89adc4",
   "metadata": {},
   "outputs": [],
   "source": [
    "#Libraries  to read a pdf file\n",
    "import PyPDF2 as pdf"
   ]
  },
  {
   "cell_type": "code",
   "execution_count": 25,
   "id": "5f37c51f",
   "metadata": {},
   "outputs": [
    {
     "name": "stdout",
     "output_type": "stream",
     "text": [
      "<_io.BufferedReader name='sample.pdf'>\n"
     ]
    }
   ],
   "source": [
    "#Open the file\n",
    "file=open('sample.pdf', 'rb')\n",
    "print(file)"
   ]
  },
  {
   "cell_type": "code",
   "execution_count": 26,
   "id": "0e9367f6",
   "metadata": {},
   "outputs": [],
   "source": [
    "#Create a  object of pdf_reader to read the file\n",
    "pdf_reader=pdf.PdfFileReader(file)"
   ]
  },
  {
   "cell_type": "code",
   "execution_count": 27,
   "id": "e717170d",
   "metadata": {},
   "outputs": [
    {
     "data": {
      "text/plain": [
       "False"
      ]
     },
     "execution_count": 27,
     "metadata": {},
     "output_type": "execute_result"
    }
   ],
   "source": [
    "#To check the file is encrypted or not\n",
    "pdf_reader.getIsEncrypted()"
   ]
  },
  {
   "cell_type": "code",
   "execution_count": 28,
   "id": "b05adb2c",
   "metadata": {},
   "outputs": [
    {
     "data": {
      "text/plain": [
       "13"
      ]
     },
     "execution_count": 28,
     "metadata": {},
     "output_type": "execute_result"
    }
   ],
   "source": [
    "#To get number of pages\n",
    "pdf_reader.getNumPages()"
   ]
  },
  {
   "cell_type": "code",
   "execution_count": 20,
   "id": "b5f91d3e",
   "metadata": {},
   "outputs": [],
   "source": [
    "#Read all the pages of pdf\n",
    "pdf_text=[]\n",
    "for i in range(pdf_reader.getNumPages()):\n",
    "    temp=pdf_reader.getPage(i)\n",
    "    pdf_text.append(temp.extractText())"
   ]
  },
  {
   "cell_type": "code",
   "execution_count": 13,
   "id": "8ba04476",
   "metadata": {},
   "outputs": [
    {
     "name": "stdout",
     "output_type": "stream",
     "text": [
      "[' \\nRevision: June 2015\\n \\nRESUME \\nS\\nAMPLES\\n \\nPreparing an effective resume is a difficult and time\\n-\\nconsuming task.  This handout \\ncontains resume \\nexamples\\n \\nthat will help you get started.  Different formats and styles \\nare used to illustrate the various suggestions and tips contained in the handout, \\n\"Preparing Your Resume,\" also avai\\nlable through \\nthe Bellevue University \\nCareer \\nServices\\n \\nCenter\\n.\\n \\n \\nRemember, thes\\ne are intended to serve only as examples.  You should modify or change \\nas appropriate to \\ncustomize your resume according to your skills, experience, education, \\n\\n  \\n \\n \\nFor additional guidance or assistance, contact the Career \\nServic\\nes\\n \\nCenter \\nat \\n \\n(402) 557\\n-\\n7423, (800) 7\\n56\\n-\\n7920 ext. 7423 or careerservices\\n@bellevue.edu.\\n \\n \\n \\n \\n\\nResume Wizards or Templates that are \\navailable online or \\nincluded in many word processing programs.  They \\ncan be\\n \\ndifficult \\n\\npossible light\\n\\nand employers \\ncan identify them easily\\n.\\n \\nInstead,\\n \\ncreate your resume as a simple document in MS Word, like the \\nexa\\nmples\\n \\nincluded in this handout.\\n \\n', 'FUNCTIONAL\\n \\n(EXPERIENCED)\\n \\n \\nIM A\\n.\\n \\nSAMPLE I\\n \\n1234 North 55 Street\\n \\nBellevue, Nebraska 68005\\n \\n(402) 292\\n-\\n2345\\n \\nimasample1@xxx.com\\n \\n \\nSUMMARY OF QUALIFICATIONS\\n \\nExceptionally well organized and resourceful \\nP\\nrofessional\\n \\nwith more than six years experience and a \\nsolid academic background in accounting and financial management; excellent analytical and problem \\nsolving skills; able to handle multiple projects while pr\\noducing high quality work in a fast\\n-\\npaced, \\ndeadline\\n-\\noriented environment.\\n \\n \\nEDUCATION\\n \\nBachelor of Science\\n, Bellevue University, Bellevue, NE (In Progress)\\n \\n \\nMajor:  Accounting\\n \\nMinor:  Computer Information Systems\\n \\n \\nExpected Graduation Date:  January, 20xx\\n \\nGPA\\n \\nto date:  3.95/4.00\\n \\n \\nPROFESSIONAL ACCOMPLISHMENTS\\n \\nAccounting and Financial Management\\n \\n\\n \\nDeveloped and maintained accounting records for up to fifty bank accounts.\\n \\n\\n \\nFormulated monthly and year\\n-\\nend financial statements and generated various payroll records, \\nin\\ncluding federal and state payroll reports, annual tax reports, W\\n-\\n2 and 1099 forms, etc.\\n \\n\\n \\nTested accuracy of account balances and prepared supporting documentation for submission during a \\ncomprehensive three\\n-\\nyear audit of financial operations.\\n \\n\\n \\nFormulated int\\nricate pro\\n-\\nforma budgets.\\n \\n\\n \\nCalculated and implemented depreciation/amortization schedules.\\n \\nInformation Systems Analysis and Problem Solving\\n \\n\\n \\nConverted manual to computerized accounting systems for two organizations.\\n \\n\\n \\nAnalyzed and successfully reprogrammed sof\\ntware to meet customer requirements.\\n \\n\\n \\nResearched and corrected problems to assure effective operation of newly computerized systems.\\n \\n \\nWORK HISTORY\\n \\nStudent Intern\\n, Financial Accounting Development Program, Mutual of Omaha, Omaha, NE\\n \\n(Summer 20xx)\\n \\nAccounting \\nCoordinator\\n, Nebraska Special Olympics, Omaha, NE (20xx\\n-\\n20xx)\\n \\nBookkeeper\\n, SMC, Inc., Omaha, NE (20xx \\n\\n \\n20xx)\\n \\nBookkeeper\\n, First United Methodist Church, Altus, OK (20xx \\n\\n \\n20xx)\\n \\n \\nPROFESSIONAL AFFILIATION\\n \\nMember,\\n \\nIMA, Bellevue University Student Chapter\\n \\n \\nCOMP\\nUTER SKILLS\\n \\n\\n \\nProficient in MS Office (Word, Excel, PowerPoint, Outlook), QuickBooks\\n \\n\\n \\nBasic Knowledge of MS Access, SQL, Visual Basic, C++\\n \\n', 'CHRONOLOGICAL (INTERNSHIP)\\n \\n \\nIM A. SAMPLE II\\n \\n  \\n4321 South 55 Street\\n \\nBellevue, \\nNebraska 68005\\n \\n(402) 291\\n-\\n5432\\n \\nimasample2@xxx.com\\n \\n \\n \\nOBJECTIVE: Internship or Part\\n-\\ntime Position in Marketing, Public Relations\\n \\nor related \\nfield utilizing strong academic background and excellent communication skills\\n \\n \\n \\nEDUCATION:\\n \\nBS  in\\n \\nBusiness \\nAdministration with Marketing Emphasis\\n \\n \\nBellevue University, Bellevue, NE\\n \\n\\n \\nExpected Graduation Date:  June, 20xx\\n \\n\\n \\nGPA to date:  3.56/4.00\\n \\n \\nRelevant Coursework\\n \\n \\nPrinciples of Marketing\\n \\nBusiness Communication\\n \\n \\nInternet Marketing\\n \\nConsumer Behavior\\n \\n \\nPublic \\nRelations\\n \\nBusiness Policy & Stretegy\\n \\n \\nWORK\\n \\nHISTORY:\\n \\nAacademic Tutor\\n \\n(20xx to present)\\n \\n \\nBellevue University, Bellevue, NE\\n \\n\\n \\nAssist college students in overcoming deficiencies and \\nsuccessfully mastering academic coursework.\\n \\n \\nSenior Accounts Receivable Clerk\\n \\n(2\\n0\\nxx\\n-\\n20xx)\\n \\n \\nLincoln Financial Group, Omaha, NE\\n \\n\\n \\nResearched story ideas, wrote articles and participated in the \\npublication of a weekly in\\n-\\nhouse newsletter.\\n \\n\\n \\nAssisted customers and staff members in resolving problems and \\nbalancing accounts; trained new staff m\\nembers.\\n \\n\\n \\nManaged and recorded daily accounts receivable deposits of up to \\n$450,000.\\n \\n\\n \\nConducted extensive research to recover lost checks and organized \\nsystem to stop payment and replace all checks.\\n \\n \\nCOMMUNITY \\n \\n \\nSERVICE:\\n \\nAdvertising Coordinator\\n, \\nThe Vue\\n \\n(20xx to present)\\n \\n \\nBellevue University Student Newspaper\\n \\n \\nVolunteer\\n, Publicity Committee (20xx, 20xx)\\n \\n \\nBrushup Nebraska Paint\\n-\\nA\\n-\\nThon\\n \\n \\nADDED VALUE:\\n \\nLanguage Skills: \\nBilingual (English/Spanish)\\n \\n \\nComputer Skills: \\nMS Office (Word, Excel, PowerPoint), PhotoSho\\np\\n \\n \\nREFERENCES:\\n \\nAvailable Upon Request\\n \\n', 'CHRONOLOGICAL\\n \\n \\nIM A. SAMPLE III\\n \\n3456 Westview Road\\n \\n(402) 291\\n-\\n5678\\n \\nBellevue, Nebraska 68005\\n \\nimasample3@xxx.com\\n \\n \\nSUMMARY OF QUALIFICATIONS\\n \\n \\nExperienced business professional with a solid academic background and a demonstrated \\ncommitment to providing high quality \\ncustomer\\n \\nservice; described as a \"take charge\" person with\\n \\nexceptional communication and human relations skills; proficient in the \\nuse of MS Office (Word, \\nExcel, PowerPoint) with basic knowledge of PeopleSoft.\\n \\n \\nEDUCATION\\n \\n \\nBellevue University, Bellevue, NE (June 20xx)\\n \\nBachelor of Science in Management of Human Resources\\n \\n\\n \\nGPA in major: 3.84/4.00\\n \\nGraduated with distinction\\n \\n \\nPROFESSIONAL E\\nXPERIENCE\\n \\n \\nWest Telemarketing, Omaha, NE (20xx to Present)\\n \\nCustomer Service Supervisor\\n \\n(20xx to present)\\n \\n\\n \\nSupervise operations and staff in a 20\\n-\\nperson inbound telemarketing unit, including \\nhiring, training and evaluating employees, preparing and administer\\ning annual \\nbudgets, developing business plans, etc.\\n \\n\\n \\nAssess level of customer satisfaction and resolve sensitive and complex issues raised \\nby customers; provide additional training and take other action as required to \\nmaintain a high level of customer satis\\nfaction.\\n \\n \\nCustomer Service Representative\\n \\n(20xx\\n-\\n20xx)\\n \\n\\n \\nHandled incoming calls from customers and potential customers, provided \\ninformation and received orders using CRT to input data.\\n \\n\\n \\nInterviewed customers and recommended other available products to meet th\\neir \\nneeds; received several Incentive Awards for sales efforts.\\n \\n\\n \\nProvided orientation and training to new staff members.\\n \\n \\nPROFESSIONAL AFFILIATIONS AND ACTIVITIES\\n \\n \\nMember\\n, Society for Human Resources Management (SHRM) (20xx to 20xx)\\n \\n \\n \\nBellevue University\\n \\nStudent Chapter\\n \\n\\n \\nChair, Program Development Committee (20xx)\\n \\n \\nPresident\\n, American Business Women\\'s Association, Gold Star Chapter (20xx)\\n \\n \\nREFERENCES FURNISHED UPON REQUEST\\n \\n', 'FUNCTIONAL\\n \\n \\n \\nIM \\nA. SAMPLE IV\\n \\n987 Northridge Drive\\n \\nOmaha, Nebraska 68123\\n \\n(402) 543\\n-\\n1\\n234\\n \\nimasample4@xxx.com\\n \\n \\n \\nOBJECTIVE:\\n  \\nPosition in market research or financial analysis where strong technical skills, \\nmathematical/statistical background and problem solving abilities can be applied towards \\nthe \\nsuccessful achievement of business goals and objectives\\n \\n \\n \\nPROFESSIONAL PROFILE\\n \\n\\n \\nExceptionally well organized, resourceful and highly motivated with the ability to handle \\nmultiple projects and produce timely, high quality work.\\n \\n\\n \\nStrong analytical and human re\\nlations skills; especially effective in helping customers \\nand associates resolve issues and concerns.\\n \\n \\nPROFESSIONAL SKILLS AND \\nEXPERIENCE\\n \\nAnalysis and Problem Solving\\n \\n\\n \\nResearched and developed a survey instrument, subsequently used to obtain information \\nfro\\nm customers regarding their satisfaction with products purchased.\\n \\n\\n \\nCompiled and analyzed statistical data to identify potential target markets for future sales \\nand marketing efforts.\\n \\n\\n \\nCompleted independent research project on the use of mathematical/statisti\\ncal models as \\ntools for solving various business problems.\\n \\n\\n \\nConducted quality control inspections, analyzed results and developed action plans to \\naddress areas of concern.\\n \\nCommunications and Customer Relations\\n \\n\\n \\nReceived \\nCustomer Service Satisfaction Award fo\\nr\\n \\nhigh quality of services provided to \\nboth vendors and customers.\\n \\n\\n \\nHandled customer inquiries and sales; effectively represented company to vendors and \\nprospective customers, resulting in a 15% increase in sales in just six months.\\n \\n\\n \\nProvided orientation, tr\\naining and guidance to new employees.\\n \\n \\nEDUCATION\\n \\nBachelor of Science\\n, Bellevue University, Bellevue, NE (June, 20xx)\\n \\n \\nMajor: Computer Information Systems in Business\\n \\n \\nMinor: Mathematics\\n \\n \\nGraduated summa cum laude\\n \\nGPA:  3.98/4.00\\n \\n \\nTECHNICAL SKILLS\\n \\n\\n \\nJava, \\nPERL, ASP, PHP Scripting, Relational Databases, SQL\\n \\n\\n \\nInferential Statistics, Data Analysis, Calculus & Mathematical Analysis, SPSS\\n \\n \\nWORK EXPERIENCE\\n \\nIntern\\n-\\nMarket Research,\\n \\nMutual of Omaha, Omaha, NE (Fall Semester, 20xx)\\n \\nSales Associate & Machinist Assistan\\nt\\n, Precision Tool, Omaha, NE (20xx to present)\\n \\n \\n', 'FUNCTIONAL (MILITARY\\n)\\n \\n \\nIM A. SAMPLE V\\n \\n \\n987 Northridge Drive\\n \\nOmaha, Nebraska 68123\\n \\n(402) 543\\n-\\n1234\\n \\nimasample5@xxx.com\\n \\n \\n \\nPROFESSIONAL PROFILE\\n \\n \\nSelf\\n-\\nmotivated, resourceful and dynamic leader with extensive \\nexperience and a strong \\neducational background in management, training and employee development; exceptional \\ncommunication skills and a demonstrated ability to create and manage cohesive, productive work \\nteams; proficient in the use of Microsoft Word, Exce\\nl and other software applications.\\n \\n \\n \\nPROFESSIONAL SKILLS AND ACCOMPLISHMENTS\\n \\n \\nManagement and Administration\\n \\n\\n \\nDirected, guided and motivated a workforce of up to 300 individuals with diverse technical \\nbackgrounds and experiences.\\n \\n\\n \\nSuccessfully improved work \\n\\n\\n \\n\\n \\nProvided day\\n-\\nto\\n-\\nday supervision for an administrative staff of up to sixty employees.\\n \\n\\n \\nPlanned, designed and coor\\ndinated the programming of computer\\n-\\nbased products; designed \\nand coordinated computer system testing in facilities throughout the world.\\n \\n\\n \\nPlanned, developed and administered annual budgets ranging from $150,000 to $300,000.\\n \\nTraining and Development\\n \\n\\n \\nTaught \\ncollege level courses in leadership, management, team building, effective writing and \\nspeech communications.\\n \\n\\n \\nCertified as Master Instructor; designed and developed curriculum; selected, trained and \\nevaluated other instructors.\\n \\n\\n \\nAdvised and educated personne\\nl on ways to enhance and strengthen their promotability and \\njob performance; identified and documented career development plans for employees.\\n \\n\\n \\nProvided on\\n-\\nthe\\n-\\njob training and guidance for new employees.\\n \\nCommunication and Counseling\\n \\n\\n \\nConducted formal invest\\nigations and utilized a variety of counseling techniques and \\nstrategies to successfully resolve highly complex and sensitive issues involving domestic \\nabuse, racial discrimination, minor law infractions and academic failures.\\n \\n\\n \\nWorked one\\n-\\non\\n-\\none with custome\\nrs and employees to enhance self esteem and resolve \\ncommunication problems.\\n \\n\\n \\nMarketed and promoted company programs to employees and the general public through a \\nvariety of activities including presentations to audiences of over 1000 people.\\n \\n\\n \\nEstablished and\\n \\nmaintained effective working relationships with co\\n-\\nworkers, superiors and \\nsubordinates to facilitate the achievement of business objectives.\\n \\n \\n \\nCONTINUED . . . . . . . . . . .\\n \\n', ' \\nIM A\\n.\\n \\nSAMPLE\\n \\nV\\n \\n \\nPage Two\\n \\n \\n \\nEDUCATION AND TRAINING\\n \\n \\nBachelor of Science in Manag\\nement \\n(20xx)\\n \\nBellevue University, Bellevue, Nebraska\\n \\n \\nGPA: 4.00/4.00\\n \\n\\n \\nGraduated with Professional Honors\\n \\n \\nAssociate of Applied Science in Communications Technology \\n(20xx)\\n \\nCommunity College of the Air Force\\n \\n \\nNumerous workshops, courses and \\nseminars\\n \\ndealing with leadership development, \\nmanagement, TQM, interpersonal communications, curriculum development and related topics\\n \\nDepartment of Defense and Air Force Training Schools\\n \\n \\nCertified as Total Quality Management Facilitator\\n \\nQualified Master \\nAir Training Command Instructor in Leadership and Management\\n \\n \\n \\nWORK HISTORY\\n \\n \\nVarious Positions of Increasing Responsibility and Leadership\\n \\nUnited States Air Force (20xx to present)\\n \\n\\n \\nCurrently serving as Squadron Operation Superintendent.\\n \\n\\n \\nScheduled to leave \\nthe Air Force in September 20xx.\\n \\n \\n \\nVOLUNTEER/COMMUNITY SERVICE\\n \\n \\nCoach,\\n \\nYouth Soccer, Bellevue Boys Club\\n \\nUnit Coordinator,\\n \\nU.S. Savings Bond Drive\\n \\n \\n \\nREFERENCES AVAILABLE UPON REQUEST\\n \\n', 'CHRONOLOGICAL (MANAGERIAL\\n)\\n \\n \\nIM A\\n.\\n \\nSAMPLE VI\\n \\n \\n2345 Frederick Street\\n \\nOmaha\\n, Nebraska 68123\\n \\n(\\n402) 489\\n-\\n3421\\n \\nimasample6@xxx.com\\n \\n \\n \\nPROFESSIONAL HIGHLIGHTS\\n \\n\\n \\nExtensive technical and management experience in information systems technology with a \\nsolid academic background in computer information systems and business administration.\\n \\n\\n \\nExcellent communicator with strong leadership skills and the ability to build cohesive, \\nproductive teams while fostering and encouraging creativity and individual expression.\\n \\n\\n \\nAreas of expertise:\\n \\nOperations Management\\n \\n \\nProject Management\\n \\n \\nQuality Management\\n \\nMainframe & PC Operations\\n \\n \\nSoftware Development\\n \\nSystems Design\\n \\nCustomer Relations\\n \\n \\n \\nTechnical Support\\n \\n \\nTroubleshooting\\n \\n \\nWORK EXPERIENCE\\n \\nSupervisor, Financial Systems,\\n \\nOmaha Public Power District, Omaha NE (20xx to present)\\n \\nOversee the maintenance and \\nenhancement of financial systems to ensure process integrity and \\nsystem stability for user areas.\\n \\nSignificant Accomplishments\\n \\n\\n \\nManaged the implementation of a major software upgrade, significantly increasing efficiency \\nin the use of accounts payable and pur\\nchasing systems.\\n \\n\\n \\nConverted contract and payee information from a third party system to an internal automated \\nsystem, resulting in approximately $72,000 in annual revenue for the organization.\\n \\n\\n \\nDeveloped a cohesive, productive work team of individuals from d\\niverse areas of the \\norganization, utilizing strong interpersonal and leadership skills to foster and encourage \\nteamwork and cooperation among team members and with user areas.\\n \\n\\n \\nUtilized TQM principles to implement several internal process improvements that \\nhave \\nresulted in hundreds of time\\n-\\nsaving hours annually.\\n \\n\\n \\nPromoted into management position after only six months as a Systems Analyst.\\n \\n \\nProgrammer/Analyst,\\n \\nBishop Clarkson Hospital, Omaha NE (20xx \\n\\n \\n20xx)\\n \\nProvided systems support and enhancements to user a\\nreas throughout the hospital.\\n \\nSignificant Accomplishments\\n \\n\\n \\nDeveloped and implemented an automated system for processing employee timesheets, thus \\neliminating the need for handwritten timesheets.\\n \\n\\n \\nResearched, designed and developed a new software application \\nnow being used by \\nmanagers throughout the organization for strategic planning and reporting.\\n \\n\\n \\nRecognized as \\nInformation Systems Employee of the Year\\n \\nfor the high quality of customer \\nservice provided and the successful resolution of numerous systems problems\\n.\\n \\n \\n \\nPage One of Two\\n \\n \\n', ' \\nIM A\\n.\\n \\nSAMPLE VI\\n \\n. . . . . . . . .\\n \\n. . . . . . . . . . . . . . .\\n \\n. . . . . . . . . . . . . . . . \\nPage Two of Two\\n \\n \\n \\nWORK EXPERIENCE (Continued)\\n \\n \\nSenior Computer Operator,\\n \\nBergen Mercy Hospital, Omaha NE (20xx \\n\\n \\n20xx)\\n \\n\\n \\nSupervised shift \\noperations and staff, trained employees, developed work schedules and \\nmonitored work performance.\\n \\n\\n \\nOperated IBM and Digital systems; identified and resolved problems to assure smooth and \\nefficient system operations.\\n \\n \\nEDUCATION\\n \\nMBA with Concentration in Mana\\ngement Information Systems\\n \\nBellevue University, Bellevue NE\\n \\nExpected Graduation: June 20xx\\n \\n \\nBachelor of Science,\\n \\nBellevue University, Bellevue NE (20xx)\\n \\n \\nMajor: Computer Information Systems\\n \\n \\nMinor: Business Administration\\n \\n \\nGPA: 3.45/4.00\\n \\nGPA in major: 4.00\\n/4.00\\n \\n\\n \\n \\nCertificate in Computer Programming\\n \\nElectronic Computer Programming Institute, Omaha NE (20xx)\\n \\n \\nTECHNICAL KNOWLEDGE AND SKILLS\\n \\n \\nC, C++, Visual Basic, COBOL\\n \\n \\n \\nWindows 9x/200x/XP\\n \\n \\nAdvanced Microcomputer Applications\\n \\n \\nUNIX/Linux\\n \\n \\nManagement & Design of Database Systems\\n \\n \\nSQL\\n \\n \\nRelational Database Management\\n \\n \\n \\nMicrocomputer Graphics/Mapping\\n \\nMS Office (Word, Excel, PowerPoint, Outlook, Access)\\n \\n \\n \\nREFERENCES AVAILABLE UPON REQUEST\\n \\n', 'CHRONOLOGICAL (GRADUATE ASSISTANTSHIP)\\n \\n \\nIM A\\n.\\n \\nSAMPLE VII\\n \\n4321 Country Club Road\\n \\nOmaha, Nebraska 68123\\n \\n(402) 555\\n-\\n9876\\n \\nimasample7@xxx.com\\n \\n \\nOBJECTIVE\\n \\n \\nTo obtain a Graduate Assistantship where strong academic background and excellent \\ncommunication skills can be utilized to \\nhelp college students achieve their educational goals.\\n \\n \\nEDUCATION\\n \\n \\nBachelor of Arts,\\n \\nBellevue University, Bellevue NE (20xx)\\n \\n \\nMajors: Psychology, Sociology\\n \\nGPA: 4.00/4.00\\n \\n \\nGraduated Summa Cum Laude\\n \\n\\n \\n\\n \\nRelevant Coursework\\n \\n \\nFundamentals of Guidance & Counseling\\n \\nPersonality Theory\\n \\n \\nPsychological Assessment\\n \\nLearning Theory\\n \\n \\nResearch Methods & Psychological Research\\n \\nSocial Psychology\\n \\n \\nPROFESSIONAL EXPERIENCE\\n \\n \\nWriting Tutor and Test Administrator,\\n \\nBellevue University, Bellevue, N\\nE (20xx \\n\\n \\n20xx)\\n \\n\\n \\nAssisted in the preparation and administration of various assessment instruments, including \\nCLEP, DANTES and placement tests.\\n \\n\\n \\nProvided tutorial assistance to undergraduate and graduate students in the area of \\nwriting/composition.\\n \\n\\n \\nAdvised an\\nd assisted international students with writing assignments to help them strengthen \\ntheir English language skills.\\n \\nResearch Assistant,\\n \\nUniversity of Nebraska Medical Center, Omaha, NE (Summer 20xx, 20xx)\\n \\n\\n \\nAssisted child psychologist in a two\\n-\\npart Summer Rese\\narch Enrichment Program, including \\nobservations of client behavior, data entry and preparation of research reports.\\n \\n\\n \\nPerformed literature searches and prepared summary reports for a major research project \\ninvolving the study of individuals with disabilities\\n.\\n \\n \\nCOLLEGIATE HONORS AND ACTIVITIES\\n \\n \\nListed in\\n \\n\\n \\nMember, \\nPi Gamma Mu and Alpha Chi Honor Societies\\n \\nPresident,\\n \\nBehavioral and Social Sciences Student Organization, Bellevue University\\n \\nVolunteer Co\\nntributor,\\n \\nThe VUE\\n,\\n \\nBellevue University Student Newspaper\\n \\nMember,\\n \\nBellevue University Student Advisory Council\\n \\n \\nLETTERS OF REFERENCE & TRANSCRIPT ENCLOSED\\n \\n', 'CHRONOLOGICAL (COMPUTER/TECHNICAL)\\n \\n \\nIM A\\n. \\nSAMPLE VIII\\n \\n5432 North 97 Street\\n \\nOmaha, Nebraska 68134\\n \\n(402) 493\\n-\\n1234\\n \\nimasample8@xxx.com\\n \\n \\n \\nOBJECTIVE\\n \\nSeeking position in Information Systems\\n \\nor related field utilizing solid academic background \\nalong with exceptionally strong analytical, problem solving and customer service skills\\n.\\n \\n \\n \\nEDUCATION\\n \\nBS in Computer \\nInformation Systems\\n\\nWeb\\n-\\nbased Networking\\n \\nBellevue University, Bellevue NE\\n \\n \\n \\nExpected Graduation Date: January 20xx\\n \\n \\n\\n \\nGPA to date: 3.86/4.00\\n \\nAssociate of Applied Science,\\n \\nMetropolitan Community College, Omaha NE (20xx)\\n \\n \\nMajor: Management \\nInformation Systems\\n \\n \\n \\nGPA: 3.45/4.00\\n \\n \\n \\nTECHNICAL KNOWLEDGE AND SKILLS\\n \\nOperating Systems:\\n \\nWindows 19xx/20xx/XP/NT, UNIX/Linux\\n \\nTechnical Support: \\nInstallation, Configuration & Troubleshooting of Hardware & Software\\n \\nLanguages:\\n \\nVisual Basic, C, C++, Visual C++\\n, Java, HTML, XML, ASP.NET\\n \\nDatabase Management:\\n \\nRelational Databases. SQL, PL/SQL, MS Access\\n \\nApplications:\\n \\nMS Office (Word, Excel, PowerPoint, Outlook), MS Project\\n \\n \\n \\nPROFESSIONAL EXPERIENCE\\n \\nComputer Support Technician/Intern, \\nUnion Pacific Railroad, Omaha \\nNE (Summer 20xx)\\n \\n\\n \\nAssisted in systems administration and configuration in UNIX and Windows NT.\\n \\n\\n \\nInstalled and maintained local area networks, including Novell and Windows systems.\\n \\n\\n \\nStaffed Help Desk; analyzed and resolved system problems encountered by end us\\ners.\\n \\n\\n \\n\\n \\n\\n \\nAssisted with the maintenance of e\\n-\\nmail and other Internet applications.\\n \\nComputer Lab Assistant, \\nBellevue University, Bellevue NE (20xx \\n\\n \\n20xx)\\n \\n\\n \\nProvided advice and guidance to \\ncollege students on the effective use of PCs and various \\nsoftware applications.\\n \\n \\n \\nCOLLEGIATE ACTIVITIES\\n \\nVolunteer Contributor,\\n \\nBellevue University Computer Lab Newsletter\\n \\nMember,\\n \\nVarsity Baseball Team, Bellevue University\\n \\n \\n \\nREFERENCES AVAILABLE UPON \\nREQUEST\\n \\n', 'FUNCTIONAL\\n \\n \\nIM A. SAMPLE \\nI\\nX\\n \\n987 Northridge Drive\\n \\nOmaha, Nebraska 68123\\n \\n(402) 543\\n-\\n1234\\n \\nimasample9@xxx.com\\n \\n \\nOBJECTIVE:\\n  \\nP\\nosition in Human Resources Administration utilizing strong human relations, \\ncustomer service and problem solving skills.\\n \\n \\nPROFESSIONAL SKILLS AND ACCOMPLISHMENTS\\n \\n \\nAnalysis and Problem Solving\\n \\n\\n \\nResearched and developed a survey instrument, subsequently used to obtain \\n\\nprogram.\\n \\n\\n \\nCompiled and analyzed \\nstatistical data to identify potential sources for use in \\ndeveloping annual recruiting program.\\n \\n\\n \\n\\nresources policies on employee retention.\\n \\n\\n \\nConducted quality control inspections,\\n \\nanalyzed results and developed action plans to \\naddress areas of concern.\\n \\nCommunications and Customer Relations\\n \\n\\n \\nProvided orientation and training to new employees and advised them on the effective \\nhandling of customer complaints.\\n \\n\\n \\nGreeted applicants, \\nscheduled interviews, conducted reference checks and \\nparticipated in on\\n-\\ncampus recruiting activities and career fairs.\\n \\n\\n \\nReceived \\nCustomer Service Satisfaction Award\\n \\nfor high quality of services provided \\nto both vendors and customers.\\n \\n\\n \\nHandled customer \\ninquiries and sales; effectively represented company to vendors \\nand prospective customers, resulting in a 15% increase in just six months.\\n \\n \\nEDUCATION\\n \\n \\nBachelor of Science,\\n \\nBellevue University, Bellevue, NE (In Progress)\\n \\n\\n \\nMajor:  Psychology\\n \\nMinor: Communicat\\nion Arts\\n \\n\\n \\nExpected Graduation: August 20xx\\n \\n\\n \\nGPA to date: 3.98/4.00\\n \\n\\n \\nAssociate of Arts,\\n \\nIowa Western Community College, Council Bluffs, IA (20xx)\\n \\n\\n \\nArea of Emphasis: Business Administration\\n \\n \\nWORK EXPERIENCE\\n \\n \\nSenior Sales Associate\\n, Precision Tool, Omaha, NE (20xx to present)\\n \\nHuman Resources Intern,\\n \\nOriental Trading, Omaha, NE (Spring Semester 20xx)\\n \\n \\nREFERENCES FURNISHED UPON REQUEST\\n \\n', 'CHRONOLOGICAL (HUMAN/SOCIAL SERVICE)\\n \\n \\nIM A\\n.\\n \\nSAMPLE X\\n \\n3083\\n \\nNorth South\\n \\nStreet, Apt. A\\n-\\n1\\n \\n(308) \\n308\\n-\\n3083\\n \\nGrand Island, Nebraska 68803\\n \\nimasample10@xxxx\\n.net\\n \\nOBJECTIVE\\n\\nSeeking Position in Human/Social Service\\n \\nAdministration or related field\\n \\nutilizing strong academic \\nbackground, experience and excellent interpersonal skills\\n \\n \\nEDUCATION\\n \\nBS in Human & \\nSocial Service Administration\\n,\\n \\nBellevue University\\n, Bellevue, NE\\n \\n(Jan 20xx\\n)\\n \\n\\n \\n\\n \\nGPA: 3.81/4.00\\n \\nAAS in Human Services\\n \\n(\\nDec 19xx\\n)\\n, \\n75\\n-\\nHr Basic Nursing Assistant Program \\n(Jan\\n \\n20xx\\n)\\n \\nCentral Community College\\n\\nHastings Campus, Hastings, NE\\n \\n \\nWORK \\nHISTORY\\n \\nDay Rehabilitation Specialist\\n,\\n \\nGreater \\nNE\\n \\nGoodwill Industries, Grand Island, NE\\n \\n(June 20xx \\n\\n \\nP\\nresent)\\n \\n\\n \\nManage a caseload of twenty consumers, assist them in setting and reaching individual \\nplans\\n \\n\\n \\nF\\nacilitate group sessions on Mental Illness, Stress Ma\\nnagement and Healthy Relationships\\n \\n\\n \\nPlan and implement social activities for consumers\\n \\n\\n \\nCoordinate and conduct team meetings\\n \\n\\n \\nProcess billings, manage petty cash fund, and oversee \\noperations\\n \\n\\n \\nAssistant Receptionist\\n, \\nTiffany Square Care \\nCenter, Grand Island, NE \\n(Jan \\n\\n \\nJune 20xx\\n)\\n \\n\\n \\nArranged and facilitated weekend activities for residents\\n \\n\\n \\nContacted families to \\nset up dates and times to \\nreview and discuss care plans\\n \\n\\n \\nDelivered and read mail to residents\\n, providing companionship and social \\ninteraction\\n \\n\\n \\nFiled confidential paperwork and provided receptionist/administrative support for the Center\\n \\nEmployment Trainer\\n,\\n \\nCentral N\\nE\\n \\nGoodwill Industries, Grand Island, NE \\n(Aug 19xx\\n \\n\\n \\nMay 20xx\\n)\\n \\n\\n \\nManaged a caseload of twenty consumers and \\np\\nrovided \\non\\n-\\nthe\\n-\\njob coaching to help them succeed\\n \\n\\n \\nConducted group job search training sessions and assisted consumers with completion of job \\napplications, cover letters and resumes \\n \\nCriminal Justice/Shelter Advocate\\n,\\n \\nCrisis Center Inc\\n \\n& \\nFamily Violence Coalition, Grand Is\\nland, NE\\n \\n(July 20xx\\n \\n\\n \\nOct 20xx\\n)\\n \\n\\n \\nResponded to crisis calls and \\nprovided suppo\\nrt \\n \\nto\\n \\nvictims of domestic abuse\\n \\n\\n \\nCompleted paperwork to \\ndocument \\ncircumstances surrounding alleged abuse for \\njudicial review\\n \\nSocial Services\\n \\nAssistant,\\n \\nTiffany Square Care Center, \\nGrand Island, NE\\n \\n(Jan 20xx\\n \\n\\n \\nSept 20xx\\n)\\n \\n\\n \\nConducted tours, \\nprovided \\norientation and general assistance \\nfor\\n \\nnew residents\\n \\n\\n \\nCompleted social histories, inventoried clothing, and met one\\n-\\non\\n-\\none with residents to help them \\nunderstand their rights\\n \\nand responsibili\\nties\\n \\n\\n \\nAssisted\\n \\nthe Center \\nin \\nmeet\\ning\\n \\ncritical staffing needs\\n \\nduring peak times by\\n \\nwork\\ning\\n \\nas a certified \\nnursing assistant, dietary aide, receptionist and van driver\\n \\n \\nCOMMUNITY SERVICE\\n \\nVolunteer\\n,\\n \\n\\n(Fall 20xx\\n \\n\\n \\npresen\\nt)\\n \\n\\n \\nAssisted\\n \\nprofessional staff and participated in one\\n-\\non\\n-\\none discussions with women seeking advice \\non health\\n-\\nrelated issues\\n \\n\\n \\nObserved group training sessions to develop\\n \\nthe\\n \\nskills needed to facilitate groups \\nin the future\\n \\n \\n']\n"
     ]
    }
   ],
   "source": [
    "#All pages as list of strings\n",
    "#Each element of the list represents a page\n",
    "print(pdf_text)"
   ]
  },
  {
   "cell_type": "code",
   "execution_count": 11,
   "id": "278fdc21",
   "metadata": {},
   "outputs": [],
   "source": [
    "#Write in a pdf\n",
    "#pdf_writer=pdf.PdfFileWriter()"
   ]
  },
  {
   "cell_type": "code",
   "execution_count": null,
   "id": "354a341d",
   "metadata": {},
   "outputs": [],
   "source": [
    "#pdf_writer.addpage(page1)\n",
    "#pdf_eriter(page2)"
   ]
  },
  {
   "cell_type": "code",
   "execution_count": null,
   "id": "4f825edb",
   "metadata": {},
   "outputs": [],
   "source": [
    "#output=open('Pages.pdf','wb')\n",
    "#pdf_writer.write(output)\n",
    "#output.close()"
   ]
  },
  {
   "cell_type": "code",
   "execution_count": 23,
   "id": "0fc2f2c5",
   "metadata": {},
   "outputs": [
    {
     "name": "stdout",
     "output_type": "stream",
     "text": [
      " \n",
      "Revision: June 2015\n",
      " \n",
      "RESUME \n",
      "S\n",
      "AMPLES\n",
      " \n",
      "Preparing an effective resume is a difficult and time\n",
      "-\n",
      "consuming task.  His handful \n",
      "contains resume \n",
      "examples\n",
      " \n",
      "that will help you get started.  Different formats and style \n",
      "are used to illustrate the various suggestions and tips contained in the handful, \n",
      "\"Preparing Your Resume,\" also avail\n",
      "table through \n",
      "the Bellevue University \n",
      "Career \n",
      "Services\n",
      " \n",
      "Enter\n",
      ".\n",
      " \n",
      " \n",
      "Remember, the\n",
      "e are intended to serve only as examples.  You should modify or change \n",
      "as appropriate to \n",
      "customize your resume according to your skill, experience, education, \n",
      "\n",
      "  \n",
      " \n",
      " \n",
      "For additional guidance or assistance, contact the Career \n",
      "Service\n",
      "es\n",
      " \n",
      "Enter \n",
      "at \n",
      " \n",
      "(402) 557\n",
      "-\n",
      "7423, (800) 7\n",
      "56\n",
      "-\n",
      "7920 ext. 7423 or careerservices\n",
      "@believe.ed.\n",
      " \n",
      " \n",
      " \n",
      " \n",
      "\n",
      "Resume Wizards or Templates that are \n",
      "available online or \n",
      "included in many word processing programs.  They \n",
      "can be\n",
      " \n",
      "difficult \n",
      "\n",
      "possible light\n",
      "\n",
      "and employers \n",
      "can identify them easily\n",
      ".\n",
      " \n",
      "Instead,\n",
      " \n",
      "create your resume as a simple document in of Word, like the \n",
      "ex\n",
      "miles\n",
      " \n",
      "included in this handful.\n",
      " \n",
      "\n"
     ]
    }
   ],
   "source": [
    "from textblob import TextBlob\n",
    "text=TextBlob(pdf_text[0])\n",
    "print(text.correct())"
   ]
  },
  {
   "cell_type": "code",
   "execution_count": null,
   "id": "cb5f812c",
   "metadata": {},
   "outputs": [],
   "source": []
  }
 ],
 "metadata": {
  "kernelspec": {
   "display_name": "Python 3",
   "language": "python",
   "name": "python3"
  },
  "language_info": {
   "codemirror_mode": {
    "name": "ipython",
    "version": 3
   },
   "file_extension": ".py",
   "mimetype": "text/x-python",
   "name": "python",
   "nbconvert_exporter": "python",
   "pygments_lexer": "ipython3",
   "version": "3.7.6"
  }
 },
 "nbformat": 4,
 "nbformat_minor": 5
}
