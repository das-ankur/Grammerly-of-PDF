{
 "cells": [
  {
   "cell_type": "code",
   "execution_count": 1,
   "id": "90d9a4b6",
   "metadata": {},
   "outputs": [
    {
     "name": "stdout",
     "output_type": "stream",
     "text": [
      "Collecting gingerit\n",
      "  Downloading gingerit-0.8.1-py3-none-any.whl (3.3 kB)\n",
      "Requirement already satisfied: requests<3.0,>=2.22 in /home/onkur/anaconda3/lib/python3.7/site-packages (from gingerit) (2.25.1)\n",
      "Requirement already satisfied: idna<3,>=2.5 in /home/onkur/anaconda3/lib/python3.7/site-packages (from requests<3.0,>=2.22->gingerit) (2.10)\n",
      "Requirement already satisfied: certifi>=2017.4.17 in /home/onkur/anaconda3/lib/python3.7/site-packages (from requests<3.0,>=2.22->gingerit) (2020.12.5)\n",
      "Requirement already satisfied: urllib3<1.27,>=1.21.1 in /home/onkur/anaconda3/lib/python3.7/site-packages (from requests<3.0,>=2.22->gingerit) (1.26.4)\n",
      "Requirement already satisfied: chardet<5,>=3.0.2 in /home/onkur/anaconda3/lib/python3.7/site-packages (from requests<3.0,>=2.22->gingerit) (4.0.0)\n",
      "Installing collected packages: gingerit\n",
      "Successfully installed gingerit-0.8.1\n"
     ]
    }
   ],
   "source": [
    "!pip install gingerit"
   ]
  },
  {
   "cell_type": "code",
   "execution_count": 2,
   "id": "a6accadf",
   "metadata": {},
   "outputs": [
    {
     "name": "stdout",
     "output_type": "stream",
     "text": [
      "Collecting language_tool\n",
      "  Downloading language_tool-0.3.tar.bz2 (15 kB)\n",
      "Building wheels for collected packages: language-tool\n",
      "  Building wheel for language-tool (setup.py) ... \u001b[?25ldone\n",
      "\u001b[?25h  Created wheel for language-tool: filename=language_tool-0.3-py3-none-any.whl size=196292346 sha256=06d95fc04b74d75c9c1ac276a6909e910d525d39b774c4062d0505d028b59ead\n",
      "  Stored in directory: /home/onkur/.cache/pip/wheels/52/a5/54/69c704abb2ba314914a2aa8255cdca872bd72e926c2936f089\n",
      "Successfully built language-tool\n",
      "Installing collected packages: language-tool\n",
      "Successfully installed language-tool-0.3\n"
     ]
    }
   ],
   "source": [
    "!pip install language_tool"
   ]
  },
  {
   "cell_type": "code",
   "execution_count": 10,
   "id": "2cf461d1",
   "metadata": {},
   "outputs": [
    {
     "name": "stdout",
     "output_type": "stream",
     "text": [
      "Collecting streamlit\n",
      "  Downloading streamlit-0.80.0-py2.py3-none-any.whl (8.2 MB)\n",
      "\u001b[K     |████████████████████████████████| 8.2 MB 4.6 MB/s eta 0:00:01\n",
      "\u001b[?25hRequirement already satisfied: requests in /home/onkur/anaconda3/lib/python3.7/site-packages (from streamlit) (2.25.1)\n",
      "Collecting pyarrow\n",
      "  Downloading pyarrow-3.0.0-cp37-cp37m-manylinux2014_x86_64.whl (20.7 MB)\n",
      "\u001b[K     |████████████████████████████████| 20.7 MB 56 kB/s  eta 0:00:01\n",
      "\u001b[?25hCollecting gitpython\n",
      "  Downloading GitPython-3.1.14-py3-none-any.whl (159 kB)\n",
      "\u001b[K     |████████████████████████████████| 159 kB 5.2 MB/s eta 0:00:01\n",
      "\u001b[?25hRequirement already satisfied: pandas>=0.21.0 in /home/onkur/anaconda3/lib/python3.7/site-packages (from streamlit) (1.2.3)\n",
      "Requirement already satisfied: toml in /home/onkur/anaconda3/lib/python3.7/site-packages (from streamlit) (0.10.2)\n",
      "Collecting validators\n",
      "  Downloading validators-0.18.2-py3-none-any.whl (19 kB)\n",
      "Requirement already satisfied: numpy in /home/onkur/anaconda3/lib/python3.7/site-packages (from streamlit) (1.19.2)\n",
      "Requirement already satisfied: tornado>=5.0 in /home/onkur/anaconda3/lib/python3.7/site-packages (from streamlit) (6.1)\n",
      "Collecting altair>=3.2.0\n",
      "  Downloading altair-4.1.0-py3-none-any.whl (727 kB)\n",
      "\u001b[K     |████████████████████████████████| 727 kB 31.5 MB/s eta 0:00:01\n",
      "\u001b[?25hCollecting cachetools>=4.0\n",
      "  Downloading cachetools-4.2.1-py3-none-any.whl (12 kB)\n",
      "Collecting blinker\n",
      "  Downloading blinker-1.4.tar.gz (111 kB)\n",
      "\u001b[K     |████████████████████████████████| 111 kB 25.0 MB/s eta 0:00:01\n",
      "\u001b[?25hCollecting pydeck>=0.1.dev5\n",
      "  Downloading pydeck-0.6.1-py2.py3-none-any.whl (4.6 MB)\n",
      "\u001b[K     |████████████████████████████████| 4.6 MB 28.0 MB/s eta 0:00:01\n",
      "\u001b[?25hCollecting protobuf!=3.11,>=3.6.0\n",
      "  Downloading protobuf-3.15.8-cp37-cp37m-manylinux1_x86_64.whl (1.0 MB)\n",
      "\u001b[K     |████████████████████████████████| 1.0 MB 4.9 MB/s eta 0:00:01\n",
      "\u001b[?25hRequirement already satisfied: pillow>=6.2.0 in /home/onkur/anaconda3/lib/python3.7/site-packages (from streamlit) (8.2.0)\n",
      "Collecting astor\n",
      "  Downloading astor-0.8.1-py2.py3-none-any.whl (27 kB)\n",
      "Collecting tzlocal\n",
      "  Downloading tzlocal-2.1-py2.py3-none-any.whl (16 kB)\n",
      "Requirement already satisfied: click>=7.0 in /home/onkur/anaconda3/lib/python3.7/site-packages (from streamlit) (7.1.2)\n",
      "Collecting base58\n",
      "  Downloading base58-2.1.0-py3-none-any.whl (5.6 kB)\n",
      "Requirement already satisfied: python-dateutil in /home/onkur/anaconda3/lib/python3.7/site-packages (from streamlit) (2.8.1)\n",
      "Requirement already satisfied: watchdog in /home/onkur/anaconda3/lib/python3.7/site-packages (from streamlit) (1.0.2)\n",
      "Requirement already satisfied: packaging in /home/onkur/anaconda3/lib/python3.7/site-packages (from streamlit) (20.9)\n",
      "Requirement already satisfied: toolz in /home/onkur/anaconda3/lib/python3.7/site-packages (from altair>=3.2.0->streamlit) (0.11.1)\n",
      "Requirement already satisfied: jinja2 in /home/onkur/anaconda3/lib/python3.7/site-packages (from altair>=3.2.0->streamlit) (2.11.3)\n",
      "Requirement already satisfied: jsonschema in /home/onkur/anaconda3/lib/python3.7/site-packages (from altair>=3.2.0->streamlit) (3.2.0)\n",
      "Requirement already satisfied: entrypoints in /home/onkur/anaconda3/lib/python3.7/site-packages (from altair>=3.2.0->streamlit) (0.3)\n",
      "Requirement already satisfied: pytz>=2017.3 in /home/onkur/anaconda3/lib/python3.7/site-packages (from pandas>=0.21.0->streamlit) (2021.1)\n",
      "Requirement already satisfied: six>=1.9 in /home/onkur/anaconda3/lib/python3.7/site-packages (from protobuf!=3.11,>=3.6.0->streamlit) (1.15.0)\n",
      "Requirement already satisfied: traitlets>=4.3.2 in /home/onkur/anaconda3/lib/python3.7/site-packages (from pydeck>=0.1.dev5->streamlit) (5.0.5)\n",
      "Requirement already satisfied: ipywidgets>=7.0.0 in /home/onkur/anaconda3/lib/python3.7/site-packages (from pydeck>=0.1.dev5->streamlit) (7.6.3)\n",
      "Requirement already satisfied: ipykernel>=5.1.2 in /home/onkur/anaconda3/lib/python3.7/site-packages (from pydeck>=0.1.dev5->streamlit) (5.3.4)\n",
      "Requirement already satisfied: jupyter-client in /home/onkur/anaconda3/lib/python3.7/site-packages (from ipykernel>=5.1.2->pydeck>=0.1.dev5->streamlit) (6.1.12)\n",
      "Requirement already satisfied: ipython>=5.0.0 in /home/onkur/anaconda3/lib/python3.7/site-packages (from ipykernel>=5.1.2->pydeck>=0.1.dev5->streamlit) (7.22.0)\n",
      "Requirement already satisfied: pygments in /home/onkur/anaconda3/lib/python3.7/site-packages (from ipython>=5.0.0->ipykernel>=5.1.2->pydeck>=0.1.dev5->streamlit) (2.8.1)\n",
      "Requirement already satisfied: setuptools>=18.5 in /home/onkur/anaconda3/lib/python3.7/site-packages (from ipython>=5.0.0->ipykernel>=5.1.2->pydeck>=0.1.dev5->streamlit) (52.0.0.post20210125)\n",
      "Requirement already satisfied: pickleshare in /home/onkur/anaconda3/lib/python3.7/site-packages (from ipython>=5.0.0->ipykernel>=5.1.2->pydeck>=0.1.dev5->streamlit) (0.7.5)\n",
      "Requirement already satisfied: prompt-toolkit!=3.0.0,!=3.0.1,<3.1.0,>=2.0.0 in /home/onkur/anaconda3/lib/python3.7/site-packages (from ipython>=5.0.0->ipykernel>=5.1.2->pydeck>=0.1.dev5->streamlit) (3.0.17)\n",
      "Requirement already satisfied: backcall in /home/onkur/anaconda3/lib/python3.7/site-packages (from ipython>=5.0.0->ipykernel>=5.1.2->pydeck>=0.1.dev5->streamlit) (0.2.0)\n",
      "Requirement already satisfied: decorator in /home/onkur/anaconda3/lib/python3.7/site-packages (from ipython>=5.0.0->ipykernel>=5.1.2->pydeck>=0.1.dev5->streamlit) (4.4.2)\n",
      "Collecting jedi>=0.16\n",
      "  Downloading jedi-0.18.0-py2.py3-none-any.whl (1.4 MB)\n",
      "\u001b[K     |████████████████████████████████| 1.4 MB 25.9 MB/s eta 0:00:01\n",
      "\u001b[?25hRequirement already satisfied: pexpect>4.3 in /home/onkur/anaconda3/lib/python3.7/site-packages (from ipython>=5.0.0->ipykernel>=5.1.2->pydeck>=0.1.dev5->streamlit) (4.8.0)\n",
      "Requirement already satisfied: widgetsnbextension~=3.5.0 in /home/onkur/anaconda3/lib/python3.7/site-packages (from ipywidgets>=7.0.0->pydeck>=0.1.dev5->streamlit) (3.5.1)\n",
      "Requirement already satisfied: nbformat>=4.2.0 in /home/onkur/anaconda3/lib/python3.7/site-packages (from ipywidgets>=7.0.0->pydeck>=0.1.dev5->streamlit) (5.1.3)\n",
      "Requirement already satisfied: jupyterlab-widgets>=1.0.0 in /home/onkur/anaconda3/lib/python3.7/site-packages (from ipywidgets>=7.0.0->pydeck>=0.1.dev5->streamlit) (1.0.0)\n",
      "Collecting parso<0.9.0,>=0.8.0\n",
      "  Downloading parso-0.8.2-py2.py3-none-any.whl (94 kB)\n",
      "\u001b[K     |████████████████████████████████| 94 kB 759 kB/s eta 0:00:011\n",
      "\u001b[?25hRequirement already satisfied: MarkupSafe>=0.23 in /home/onkur/anaconda3/lib/python3.7/site-packages (from jinja2->altair>=3.2.0->streamlit) (1.1.1)\n",
      "Requirement already satisfied: ipython-genutils in /home/onkur/anaconda3/lib/python3.7/site-packages (from nbformat>=4.2.0->ipywidgets>=7.0.0->pydeck>=0.1.dev5->streamlit) (0.2.0)\n",
      "Requirement already satisfied: jupyter-core in /home/onkur/anaconda3/lib/python3.7/site-packages (from nbformat>=4.2.0->ipywidgets>=7.0.0->pydeck>=0.1.dev5->streamlit) (4.7.1)\n",
      "Requirement already satisfied: importlib-metadata in /home/onkur/anaconda3/lib/python3.7/site-packages (from jsonschema->altair>=3.2.0->streamlit) (3.7.3)\n",
      "Requirement already satisfied: attrs>=17.4.0 in /home/onkur/anaconda3/lib/python3.7/site-packages (from jsonschema->altair>=3.2.0->streamlit) (20.3.0)\n",
      "Requirement already satisfied: pyrsistent>=0.14.0 in /home/onkur/anaconda3/lib/python3.7/site-packages (from jsonschema->altair>=3.2.0->streamlit) (0.17.3)\n",
      "Requirement already satisfied: ptyprocess>=0.5 in /home/onkur/anaconda3/lib/python3.7/site-packages (from pexpect>4.3->ipython>=5.0.0->ipykernel>=5.1.2->pydeck>=0.1.dev5->streamlit) (0.7.0)\n",
      "Requirement already satisfied: wcwidth in /home/onkur/anaconda3/lib/python3.7/site-packages (from prompt-toolkit!=3.0.0,!=3.0.1,<3.1.0,>=2.0.0->ipython>=5.0.0->ipykernel>=5.1.2->pydeck>=0.1.dev5->streamlit) (0.2.5)\n",
      "Requirement already satisfied: notebook>=4.4.1 in /home/onkur/anaconda3/lib/python3.7/site-packages (from widgetsnbextension~=3.5.0->ipywidgets>=7.0.0->pydeck>=0.1.dev5->streamlit) (6.3.0)\n",
      "Requirement already satisfied: pyzmq>=17 in /home/onkur/anaconda3/lib/python3.7/site-packages (from notebook>=4.4.1->widgetsnbextension~=3.5.0->ipywidgets>=7.0.0->pydeck>=0.1.dev5->streamlit) (20.0.0)\n",
      "Requirement already satisfied: argon2-cffi in /home/onkur/anaconda3/lib/python3.7/site-packages (from notebook>=4.4.1->widgetsnbextension~=3.5.0->ipywidgets>=7.0.0->pydeck>=0.1.dev5->streamlit) (20.1.0)\n",
      "Requirement already satisfied: nbconvert in /home/onkur/anaconda3/lib/python3.7/site-packages (from notebook>=4.4.1->widgetsnbextension~=3.5.0->ipywidgets>=7.0.0->pydeck>=0.1.dev5->streamlit) (6.0.7)\n",
      "Requirement already satisfied: terminado>=0.8.3 in /home/onkur/anaconda3/lib/python3.7/site-packages (from notebook>=4.4.1->widgetsnbextension~=3.5.0->ipywidgets>=7.0.0->pydeck>=0.1.dev5->streamlit) (0.9.4)\n",
      "Requirement already satisfied: Send2Trash>=1.5.0 in /home/onkur/anaconda3/lib/python3.7/site-packages (from notebook>=4.4.1->widgetsnbextension~=3.5.0->ipywidgets>=7.0.0->pydeck>=0.1.dev5->streamlit) (1.5.0)\n",
      "Requirement already satisfied: prometheus-client in /home/onkur/anaconda3/lib/python3.7/site-packages (from notebook>=4.4.1->widgetsnbextension~=3.5.0->ipywidgets>=7.0.0->pydeck>=0.1.dev5->streamlit) (0.10.0)\n"
     ]
    },
    {
     "name": "stdout",
     "output_type": "stream",
     "text": [
      "Requirement already satisfied: cffi>=1.0.0 in /home/onkur/anaconda3/lib/python3.7/site-packages (from argon2-cffi->notebook>=4.4.1->widgetsnbextension~=3.5.0->ipywidgets>=7.0.0->pydeck>=0.1.dev5->streamlit) (1.14.5)\n",
      "Requirement already satisfied: pycparser in /home/onkur/anaconda3/lib/python3.7/site-packages (from cffi>=1.0.0->argon2-cffi->notebook>=4.4.1->widgetsnbextension~=3.5.0->ipywidgets>=7.0.0->pydeck>=0.1.dev5->streamlit) (2.20)\n",
      "Collecting gitdb<5,>=4.0.1\n",
      "  Downloading gitdb-4.0.7-py3-none-any.whl (63 kB)\n",
      "\u001b[K     |████████████████████████████████| 63 kB 426 kB/s  eta 0:00:01\n",
      "\u001b[?25hCollecting smmap<5,>=3.0.1\n",
      "  Downloading smmap-4.0.0-py2.py3-none-any.whl (24 kB)\n",
      "Requirement already satisfied: typing-extensions>=3.6.4 in /home/onkur/anaconda3/lib/python3.7/site-packages (from importlib-metadata->jsonschema->altair>=3.2.0->streamlit) (3.7.4.3)\n",
      "Requirement already satisfied: zipp>=0.5 in /home/onkur/anaconda3/lib/python3.7/site-packages (from importlib-metadata->jsonschema->altair>=3.2.0->streamlit) (3.4.1)\n",
      "Requirement already satisfied: bleach in /home/onkur/anaconda3/lib/python3.7/site-packages (from nbconvert->notebook>=4.4.1->widgetsnbextension~=3.5.0->ipywidgets>=7.0.0->pydeck>=0.1.dev5->streamlit) (3.3.0)\n",
      "Requirement already satisfied: pandocfilters>=1.4.1 in /home/onkur/anaconda3/lib/python3.7/site-packages (from nbconvert->notebook>=4.4.1->widgetsnbextension~=3.5.0->ipywidgets>=7.0.0->pydeck>=0.1.dev5->streamlit) (1.4.3)\n",
      "Requirement already satisfied: nbclient<0.6.0,>=0.5.0 in /home/onkur/anaconda3/lib/python3.7/site-packages (from nbconvert->notebook>=4.4.1->widgetsnbextension~=3.5.0->ipywidgets>=7.0.0->pydeck>=0.1.dev5->streamlit) (0.5.3)\n",
      "Requirement already satisfied: defusedxml in /home/onkur/anaconda3/lib/python3.7/site-packages (from nbconvert->notebook>=4.4.1->widgetsnbextension~=3.5.0->ipywidgets>=7.0.0->pydeck>=0.1.dev5->streamlit) (0.7.1)\n",
      "Requirement already satisfied: mistune<2,>=0.8.1 in /home/onkur/anaconda3/lib/python3.7/site-packages (from nbconvert->notebook>=4.4.1->widgetsnbextension~=3.5.0->ipywidgets>=7.0.0->pydeck>=0.1.dev5->streamlit) (0.8.4)\n",
      "Requirement already satisfied: testpath in /home/onkur/anaconda3/lib/python3.7/site-packages (from nbconvert->notebook>=4.4.1->widgetsnbextension~=3.5.0->ipywidgets>=7.0.0->pydeck>=0.1.dev5->streamlit) (0.4.4)\n",
      "Requirement already satisfied: jupyterlab-pygments in /home/onkur/anaconda3/lib/python3.7/site-packages (from nbconvert->notebook>=4.4.1->widgetsnbextension~=3.5.0->ipywidgets>=7.0.0->pydeck>=0.1.dev5->streamlit) (0.1.2)\n",
      "Requirement already satisfied: async-generator in /home/onkur/anaconda3/lib/python3.7/site-packages (from nbclient<0.6.0,>=0.5.0->nbconvert->notebook>=4.4.1->widgetsnbextension~=3.5.0->ipywidgets>=7.0.0->pydeck>=0.1.dev5->streamlit) (1.10)\n",
      "Requirement already satisfied: nest-asyncio in /home/onkur/anaconda3/lib/python3.7/site-packages (from nbclient<0.6.0,>=0.5.0->nbconvert->notebook>=4.4.1->widgetsnbextension~=3.5.0->ipywidgets>=7.0.0->pydeck>=0.1.dev5->streamlit) (1.5.1)\n",
      "Requirement already satisfied: webencodings in /home/onkur/anaconda3/lib/python3.7/site-packages (from bleach->nbconvert->notebook>=4.4.1->widgetsnbextension~=3.5.0->ipywidgets>=7.0.0->pydeck>=0.1.dev5->streamlit) (0.5.1)\n",
      "Requirement already satisfied: pyparsing>=2.0.2 in /home/onkur/anaconda3/lib/python3.7/site-packages (from packaging->streamlit) (2.4.7)\n",
      "Requirement already satisfied: idna<3,>=2.5 in /home/onkur/anaconda3/lib/python3.7/site-packages (from requests->streamlit) (2.10)\n",
      "Requirement already satisfied: urllib3<1.27,>=1.21.1 in /home/onkur/anaconda3/lib/python3.7/site-packages (from requests->streamlit) (1.26.4)\n",
      "Requirement already satisfied: chardet<5,>=3.0.2 in /home/onkur/anaconda3/lib/python3.7/site-packages (from requests->streamlit) (4.0.0)\n",
      "Requirement already satisfied: certifi>=2017.4.17 in /home/onkur/anaconda3/lib/python3.7/site-packages (from requests->streamlit) (2020.12.5)\n",
      "Building wheels for collected packages: blinker\n",
      "  Building wheel for blinker (setup.py) ... \u001b[?25ldone\n",
      "\u001b[?25h  Created wheel for blinker: filename=blinker-1.4-py3-none-any.whl size=13451 sha256=d99f087c9c65d19e30437d4c48cab4bfe64afc3b3d721aa8a72cc3956fc37517\n",
      "  Stored in directory: /home/onkur/.cache/pip/wheels/22/f5/18/df711b66eb25b21325c132757d4314db9ac5e8dabeaf196eab\n",
      "Successfully built blinker\n",
      "Installing collected packages: parso, jedi, smmap, gitdb, validators, tzlocal, pydeck, pyarrow, protobuf, gitpython, cachetools, blinker, base58, astor, altair, streamlit\n",
      "  Attempting uninstall: parso\n",
      "    Found existing installation: parso 0.5.2\n",
      "    Uninstalling parso-0.5.2:\n",
      "      Successfully uninstalled parso-0.5.2\n",
      "  Attempting uninstall: jedi\n",
      "    Found existing installation: jedi 0.14.1\n",
      "    Uninstalling jedi-0.14.1:\n",
      "      Successfully uninstalled jedi-0.14.1\n",
      "\u001b[31mERROR: pip's dependency resolver does not currently take into account all the packages that are installed. This behaviour is the source of the following dependency conflicts.\n",
      "spyder 4.0.1 requires pyqt5<5.13; python_version >= \"3\", which is not installed.\n",
      "spyder 4.0.1 requires pyqtwebengine<5.13; python_version >= \"3\", which is not installed.\n",
      "spyder 4.0.1 requires jedi==0.14.1, but you have jedi 0.18.0 which is incompatible.\n",
      "python-language-server 0.31.7 requires jedi<0.16,>=0.14.1, but you have jedi 0.18.0 which is incompatible.\n",
      "python-language-server 0.31.7 requires ujson<=1.35; platform_system != \"Windows\", but you have ujson 4.0.2 which is incompatible.\u001b[0m\n",
      "Successfully installed altair-4.1.0 astor-0.8.1 base58-2.1.0 blinker-1.4 cachetools-4.2.1 gitdb-4.0.7 gitpython-3.1.14 jedi-0.18.0 parso-0.8.2 protobuf-3.15.8 pyarrow-3.0.0 pydeck-0.6.1 smmap-4.0.0 streamlit-0.80.0 tzlocal-2.1 validators-0.18.2\n"
     ]
    }
   ],
   "source": [
    "!pip install streamlit"
   ]
  },
  {
   "cell_type": "code",
   "execution_count": 18,
   "id": "8702d4c5",
   "metadata": {},
   "outputs": [],
   "source": [
    "from gingerit.gingerit import GingerIt\n",
    "import streamlit as st"
   ]
  },
  {
   "cell_type": "code",
   "execution_count": 19,
   "id": "a40ba98c",
   "metadata": {},
   "outputs": [],
   "source": [
    "text='I is boy. I name Ankur Das'"
   ]
  },
  {
   "cell_type": "code",
   "execution_count": 20,
   "id": "2b9c3eaa",
   "metadata": {},
   "outputs": [],
   "source": [
    "parser= GingerIt()"
   ]
  },
  {
   "cell_type": "code",
   "execution_count": 21,
   "id": "c751b5fd",
   "metadata": {},
   "outputs": [
    {
     "data": {
      "text/plain": [
       "[{'start': 5, 'text': 'boy', 'correct': 'a boy', 'definition': None},\n",
       " {'start': 2, 'text': 'is', 'correct': 'am', 'definition': None}]"
      ]
     },
     "execution_count": 21,
     "metadata": {},
     "output_type": "execute_result"
    }
   ],
   "source": [
    "parser.parse(text)['corrections']"
   ]
  },
  {
   "cell_type": "code",
   "execution_count": 12,
   "id": "b98cd6dc",
   "metadata": {},
   "outputs": [],
   "source": [
    "parser=GingerIt()"
   ]
  },
  {
   "cell_type": "code",
   "execution_count": 22,
   "id": "f13f4aeb",
   "metadata": {},
   "outputs": [],
   "source": [
    "result_dict=parser.parse(text)"
   ]
  },
  {
   "cell_type": "code",
   "execution_count": 23,
   "id": "7006c8d2",
   "metadata": {},
   "outputs": [
    {
     "name": "stdout",
     "output_type": "stream",
     "text": [
      "I am a boy. I name Ankur Das\n"
     ]
    }
   ],
   "source": [
    "print(result_dict[\"result\"])"
   ]
  },
  {
   "cell_type": "code",
   "execution_count": null,
   "id": "9c058c7b",
   "metadata": {},
   "outputs": [],
   "source": []
  }
 ],
 "metadata": {
  "kernelspec": {
   "display_name": "Python 3",
   "language": "python",
   "name": "python3"
  },
  "language_info": {
   "codemirror_mode": {
    "name": "ipython",
    "version": 3
   },
   "file_extension": ".py",
   "mimetype": "text/x-python",
   "name": "python",
   "nbconvert_exporter": "python",
   "pygments_lexer": "ipython3",
   "version": "3.7.6"
  }
 },
 "nbformat": 4,
 "nbformat_minor": 5
}
